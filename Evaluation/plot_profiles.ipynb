{
 "cells": [
  {
   "cell_type": "code",
   "execution_count": 2,
   "id": "1c7df537-67dd-44b2-9773-7becffc40faa",
   "metadata": {},
   "outputs": [],
   "source": [
    "from utils import profile_predict, plot_profile, calculate_metrics\n",
    "from RNN.models import EncoderDecoderGRU"
   ]
  },
  {
   "cell_type": "code",
   "execution_count": 3,
   "id": "cd54dc50",
   "metadata": {},
   "outputs": [],
   "source": [
    "curve_dir = {}\n",
    "curve_dir[1] = (\n",
    "    \"/home/mazin/Projects/Thesis/Data/battery_model_paper/positive_discharge_20/149/1/1_4_0_0.csv\"\n",
    ")\n",
    "curve_dir[2] = (\n",
    "    \"/home/mazin/Projects/Thesis/Data/battery_model_paper/positive_discharge_20/149/2/2_4_0_0.csv\"\n",
    ")\n",
    "curve_dir[3] = (\n",
    "    \"/home/mazin/Projects/Thesis/Data/battery_model_paper/positive_discharge_20/149/3/3_4_0_0.csv\"\n",
    ")\n",
    "curve_dir[4] = (\n",
    "    \"/home/mazin/Projects/Thesis/Data/battery_model_paper/positive_discharge_20/149/4/4_4_0_0.csv\"\n",
    ")\n",
    "curve_dir[5] = (\n",
    "    \"/home/mazin/Projects/Thesis/Data/battery_model_paper/positive_discharge_20/149/5/5_4_0_0.csv\"\n",
    ")\n",
    "curve_dir[6] = (\n",
    "    \"/home/mazin/Projects/Thesis/Data/battery_model_paper/positive_discharge_20/149/6/6_4_0_0.csv\"\n",
    ")\n",
    "pretrained_weights = \"/home/mazin/Projects/Thesis/RNN/checkpoints/polar-sky-201/SEFD-monitor_val-epoch=857-train_loss=0.0000321-val_loss=0.0001363-val_mae=0.01209.ckpt\""
   ]
  },
  {
   "cell_type": "code",
   "execution_count": 4,
   "id": "6606c42e",
   "metadata": {},
   "outputs": [],
   "source": [
    "rnn_model = EncoderDecoderGRU.load_from_checkpoint(pretrained_weights).to(\"cpu\")"
   ]
  },
  {
   "cell_type": "code",
   "execution_count": 12,
   "id": "b606b33b",
   "metadata": {},
   "outputs": [],
   "source": [
    "# profile = 2\n",
    "\n",
    "actual_current_1, actual_voltage_1, predicted_voltage_1 = profile_predict(\n",
    "    rnn_model, curve_dir[1]\n",
    ")\n",
    "actual_current_2, actual_voltage_2, predicted_voltage_2 = profile_predict(\n",
    "    rnn_model, curve_dir[3]\n",
    ")\n",
    "actual_current_3, actual_voltage_3, predicted_voltage_3 = profile_predict(\n",
    "    rnn_model, curve_dir[6]\n",
    ")\n",
    "# plot_profile(\n",
    "#     actual_current,\n",
    "#     actual_voltage,\n",
    "#     predicted_voltage,\n",
    "#     title=f\"Prediction : Profile {profile}\",\n",
    "# )"
   ]
  },
  {
   "cell_type": "code",
   "execution_count": 13,
   "id": "a73daf27",
   "metadata": {},
   "outputs": [
    {
     "name": "stdout",
     "output_type": "stream",
     "text": [
      "R-squared score: 0.997280055383163\n",
      "RMSE: 0.015025219\n",
      "MAE: 0.010404366\n",
      "MAPE: 0.00288859\n"
     ]
    },
    {
     "data": {
      "text/plain": [
       "(0.997280055383163, 0.015025219, 0.010404366, 0.00288859)"
      ]
     },
     "execution_count": 13,
     "metadata": {},
     "output_type": "execute_result"
    }
   ],
   "source": [
    "calculate_metrics(\n",
    "    [actual_voltage_1, actual_voltage_2, actual_voltage_3],\n",
    "    [predicted_voltage_1, predicted_voltage_2, predicted_voltage_3],\n",
    ")"
   ]
  },
  {
   "cell_type": "code",
   "execution_count": null,
   "id": "15b56b3b",
   "metadata": {},
   "outputs": [],
   "source": []
  }
 ],
 "metadata": {
  "kernelspec": {
   "display_name": "thesis_rnn",
   "language": "python",
   "name": "python3"
  },
  "language_info": {
   "codemirror_mode": {
    "name": "ipython",
    "version": 3
   },
   "file_extension": ".py",
   "mimetype": "text/x-python",
   "name": "python",
   "nbconvert_exporter": "python",
   "pygments_lexer": "ipython3",
   "version": "3.9.18"
  }
 },
 "nbformat": 4,
 "nbformat_minor": 5
}
